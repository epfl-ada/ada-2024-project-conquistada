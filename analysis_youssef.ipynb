{
 "cells": [
  {
   "cell_type": "code",
   "execution_count": 1,
   "metadata": {},
   "outputs": [],
   "source": [
    "import numpy as np\n",
    "import pandas as pd\n",
    "import matplotlib.pyplot as plt\n",
    "import scipy.stats as stats\n",
    "import seaborn as sns"
   ]
  },
  {
   "cell_type": "code",
   "execution_count": 5,
   "metadata": {},
   "outputs": [],
   "source": [
    "PATH = 'cmu/'\n",
    "tmdb_dataset = pd.read_csv(PATH + 'TMDB_movie_dataset_v11.csv', sep=',', header=0)   # Load the dataset"
   ]
  },
  {
   "cell_type": "code",
   "execution_count": 10,
   "metadata": {},
   "outputs": [],
   "source": [
    "movies = pd.read_csv(PATH + 'movie.metadata.tsv', sep='\\t', header=None)\n",
    "movies.columns = ['Wikipedia movie ID', 'Freebase movie ID', 'Movie name', 'Movie release date', 'Movie box office revenue', 'Movie runtime', 'Movie languages', 'Movie countries', 'Movie genres']\n",
    "movies = movies.dropna(subset=['Movie name'])\n",
    "\n",
    "\n",
    "characters = pd.read_csv(PATH + 'character.metadata.tsv', sep='\\t', header=None)\n",
    "characters.columns = ['Wikipedia movie ID', 'Freebase movie ID','Movie release date', 'Character Name', 'Actor DOB', 'Actor gender', 'Actor height', 'Actor ethnicity', 'Actor Name', 'Actor age at movie release', 'Freebase character map', 'Freebase character ID', 'Freebase actor ID']\n",
    "\n",
    "names = pd.read_csv(PATH + 'name.clusters.txt', sep='\\t', header=None)\n",
    "names.columns = ['Character Name', 'Freebase actor ID']\n",
    "\n",
    "plot_summaries = pd.read_csv(PATH + 'plot_summaries.txt', sep='\\t', header=None)\n",
    "plot_summaries.columns = ['Wikipedia movie ID', 'Plot']\n",
    "\n",
    "tvtropes = pd.read_csv(PATH + 'tvtropes.clusters.txt', sep='\\t', header=None)\n",
    "tvtropes.columns = ['Trope', 'Info']"
   ]
  },
  {
   "cell_type": "code",
   "execution_count": 15,
   "metadata": {},
   "outputs": [],
   "source": [
    "tmdb = tmdb_dataset.dropna()  # Drop rows with NaN values"
   ]
  },
  {
   "cell_type": "code",
   "execution_count": 24,
   "metadata": {},
   "outputs": [
    {
     "data": {
      "text/plain": [
       "0           5.159580\n",
       "1           4.252904\n",
       "2           5.430046\n",
       "3          12.336312\n",
       "4           6.903707\n",
       "             ...    \n",
       "1127826     0.000000\n",
       "1127939     0.000000\n",
       "1128221     0.000000\n",
       "1128807     0.000000\n",
       "1129211     0.000000\n",
       "Name: revenue/budget, Length: 9662, dtype: float64"
      ]
     },
     "execution_count": 24,
     "metadata": {},
     "output_type": "execute_result"
    }
   ],
   "source": [
    "tmdb['net revenue'] = tmdb['revenue'] - tmdb['budget']\n",
    "n_budget = tmdb['budget'].apply(lambda x: 1 if x == 0 else x)\n",
    "tmdb['revenue/budget'] = tmdb['revenue'] / n_budget"
   ]
  }
 ],
 "metadata": {
  "kernelspec": {
   "display_name": "pythonProject",
   "language": "python",
   "name": "python3"
  },
  "language_info": {
   "codemirror_mode": {
    "name": "ipython",
    "version": 3
   },
   "file_extension": ".py",
   "mimetype": "text/x-python",
   "name": "python",
   "nbconvert_exporter": "python",
   "pygments_lexer": "ipython3",
   "version": "3.10.13"
  }
 },
 "nbformat": 4,
 "nbformat_minor": 2
}
